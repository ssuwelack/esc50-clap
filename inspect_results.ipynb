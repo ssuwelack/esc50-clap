{
 "cells": [
  {
   "cell_type": "code",
   "execution_count": null,
   "metadata": {},
   "outputs": [],
   "source": [
    "import datasets\n",
    "from datasets import Audio\n",
    "\n",
    "ds_raw = datasets.load_dataset(\"renumics/esc50\",split='train')\n",
    "ds_raw = ds_raw.cast_column(\"audio\", Audio(sampling_rate=None, mono=True, decode=False, id=None))\n",
    "ds_results = datasets.load_dataset(\"renumics/esc50-clap2023-results\",split='train')"
   ]
  },
  {
   "cell_type": "code",
   "execution_count": null,
   "metadata": {},
   "outputs": [],
   "source": [
    "from renumics import spotlight\n",
    "\n",
    "\n",
    "ds = datasets.concatenate_datasets([ds_raw, ds_results], axis=1)\n",
    "spotlight.show(ds, layout=\"esc50-layout.json\", dtype={'text_embedding': spotlight.Embedding, 'audio_embedding': spotlight.Embedding})\n"
   ]
  }
 ],
 "metadata": {
  "kernelspec": {
   "display_name": ".venv",
   "language": "python",
   "name": "python3"
  },
  "language_info": {
   "codemirror_mode": {
    "name": "ipython",
    "version": 3
   },
   "file_extension": ".py",
   "mimetype": "text/x-python",
   "name": "python",
   "nbconvert_exporter": "python",
   "pygments_lexer": "ipython3",
   "version": "3.10.11"
  }
 },
 "nbformat": 4,
 "nbformat_minor": 2
}
