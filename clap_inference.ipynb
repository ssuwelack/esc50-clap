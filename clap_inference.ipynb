{
 "cells": [
  {
   "cell_type": "code",
   "execution_count": null,
   "metadata": {},
   "outputs": [],
   "source": [
    "import datasets\n",
    "\n",
    "ds = datasets.load_dataset(\"renumics/esc50\",split='train')"
   ]
  },
  {
   "cell_type": "code",
   "execution_count": null,
   "metadata": {},
   "outputs": [],
   "source": [
    "from datasets import Audio\n",
    "ds = ds.cast_column(\"audio\", Audio(sampling_rate=None, mono=True, decode=False, id=None))"
   ]
  },
  {
   "cell_type": "code",
   "execution_count": null,
   "metadata": {},
   "outputs": [],
   "source": [
    "from msclap import CLAP\n",
    "\n",
    "#build text embeddings\n",
    "names = ds.features['label'].names\n",
    "clap_model = CLAP(version = '2023', use_cuda=False)\n",
    "\n",
    "prompt = 'this is the sound of '\n",
    "y = [prompt + x for x in names]\n",
    "\n",
    "label_embeddings= clap_model.get_text_embeddings(y)\n"
   ]
  },
  {
   "cell_type": "code",
   "execution_count": null,
   "metadata": {},
   "outputs": [],
   "source": [
    "#add text embedding to dataset\n",
    "labels = ds['label']\n",
    "label_embedding_numpy = label_embeddings\n",
    "label_embedding_column = [label_embedding_numpy[i,:].tolist() for i in labels]\n",
    "ds = ds.add_column('text_embedding', label_embedding_column)\n"
   ]
  },
  {
   "cell_type": "code",
   "execution_count": null,
   "metadata": {},
   "outputs": [],
   "source": [
    "from msclap import CLAP\n",
    "from io import BytesIO\n",
    "import torch.nn.functional as F\n",
    "import numpy as np\n",
    "from scipy.stats import entropy\n",
    "\n",
    "def extract_embeddings(label_embeddings):\n",
    "    \"\"\"Utility to compute embeddings.\"\"\"\n",
    "    clap_model = CLAP(version = '2023', use_cuda=False)\n",
    "\n",
    "    def pp(batch):\n",
    "        audio_bytes = [BytesIO(audio['bytes']) for audio in batch[\"audio\"]]\n",
    "        #text_embeddings = clap_model.get_text_embeddings(audio_filenames)\n",
    "        audio_embeddings = clap_model.get_audio_embeddings(audio_bytes)\n",
    "     \n",
    "        similarity = clap_model.compute_similarity(audio_embeddings, label_embeddings)\n",
    "        probs = F.softmax(similarity.detach().cpu(), dim=1).numpy()\n",
    "        #print(probs.shape)\n",
    "        prediction= np.argmax(probs, axis=1)\n",
    "        probs_entropy = entropy(probs, axis=1)\n",
    "        #print(probs_entropy.shape)\n",
    "\n",
    "        return {'prediction': prediction, 'entropy': probs_entropy, 'audio_embedding': audio_embeddings}\n",
    "                \n",
    "\n",
    "\n",
    "    return pp"
   ]
  },
  {
   "cell_type": "code",
   "execution_count": null,
   "metadata": {},
   "outputs": [],
   "source": [
    "ds = ds.map(extract_embeddings(label_embeddings), batched=True, batch_size=4)"
   ]
  },
  {
   "cell_type": "code",
   "execution_count": null,
   "metadata": {},
   "outputs": [],
   "source": [
    "features = ds.features\n",
    "features['prediction'] = features['label']\n",
    "ds = ds.cast(features)\n",
    "pred_incorrect = [ True if ds[i]['prediction'] != ds[i]['label'] else False for i in range(len(ds))]\n",
    "ds = ds.add_column('pred_incorrect', pred_incorrect)\n"
   ]
  },
  {
   "cell_type": "code",
   "execution_count": null,
   "metadata": {},
   "outputs": [],
   "source": [
    "ds = ds.remove_columns(['src_file', 'fold', 'label', 'esc10', 'take', 'audio'])"
   ]
  },
  {
   "cell_type": "code",
   "execution_count": null,
   "metadata": {},
   "outputs": [],
   "source": [
    "ds_dict= datasets.DatasetDict({'train': ds})\n",
    "\n",
    "ds_dict.push_to_hub('renumics/esc50-clap2023-results')"
   ]
  },
  {
   "cell_type": "code",
   "execution_count": null,
   "metadata": {},
   "outputs": [],
   "source": [
    "from renumics import spotlight\n",
    "\n",
    "spotlight.show(ds, dtype={'audio_embedding': spotlight.Embedding, 'text_embedding': spotlight.Embedding})"
   ]
  }
 ],
 "metadata": {
  "kernelspec": {
   "display_name": ".venv",
   "language": "python",
   "name": "python3"
  },
  "language_info": {
   "codemirror_mode": {
    "name": "ipython",
    "version": 3
   },
   "file_extension": ".py",
   "mimetype": "text/x-python",
   "name": "python",
   "nbconvert_exporter": "python",
   "pygments_lexer": "ipython3",
   "version": "3.10.11"
  }
 },
 "nbformat": 4,
 "nbformat_minor": 2
}
